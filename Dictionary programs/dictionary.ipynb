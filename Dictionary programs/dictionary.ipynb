{
 "cells": [
  {
   "cell_type": "code",
   "execution_count": 30,
   "metadata": {},
   "outputs": [
    {
     "name": "stdout",
     "output_type": "stream",
     "text": [
      "{'a': 23, 'b': 42}\n",
      "{'a': 23, 'b': 42}\n",
      "{'a': 23, 'b': 42}\n"
     ]
    }
   ],
   "source": [
    "#WAPP to merge two dictionaries\n",
    "'''\n",
    "1) Using \"|\" operator\n",
    "2) Using {**dictionary1, **dictionary2}\n",
    "3) Using update function\n",
    "'''\n",
    "\n",
    "dict1 = {'a':23}\n",
    "dict2 = {'b':42}\n",
    "# Method-1\n",
    "merged_dict = dict1|dict2 \n",
    "print(merged_dict)\n",
    "\n",
    "#Method-2\n",
    "merged_dictionary = {**dict1, **dict2} \n",
    "print(merged_dictionary)\n",
    "\n",
    "#Method-3 \n",
    "dict1.update(dict2) #Update function does not return the value \n",
    "print(dict1)"
   ]
  },
  {
   "cell_type": "code",
   "execution_count": 37,
   "metadata": {},
   "outputs": [
    {
     "name": "stdout",
     "output_type": "stream",
     "text": [
      "('a', 23)\n",
      "('b', 99)\n",
      "('c', 12)\n",
      "a 23\n",
      "b 99\n",
      "c 12\n"
     ]
    }
   ],
   "source": [
    "#WAPP to iterate over dictionaries using dictionaries using for loops\n",
    "dict1 = {\"a\": 23, \"b\": 99, \"c\": 12}\n",
    "for i in dict1.items():\n",
    "    print(i)\n",
    "\n",
    "for i,j in dict1.items(): #Learn This\n",
    "    print(i,j)"
   ]
  },
  {
   "cell_type": "code",
   "execution_count": 55,
   "metadata": {},
   "outputs": [
    {
     "name": "stdout",
     "output_type": "stream",
     "text": [
      "Total Marks 120\n"
     ]
    }
   ],
   "source": [
    "#WAPP to sum all the values in the dictionaries\n",
    "marks = {\"Physics\": 29, \"Maths\": 22, \"English\": 22, \"Web Tech\": 24, \"AIML & IoT\": 23, \"Python Programming\": None}\n",
    "s = 0\n",
    "for i,j in marks.items():\n",
    "    if type(j) == int:\n",
    "        s += j\n",
    "print(\"Total Marks\", s)\n"
   ]
  },
  {
   "cell_type": "code",
   "execution_count": 63,
   "metadata": {},
   "outputs": [
    {
     "name": "stdout",
     "output_type": "stream",
     "text": [
      "Maximum ['Physics'] 29\n",
      "Minimum ['Maths', 'English'] 22\n"
     ]
    }
   ],
   "source": [
    "#WAPP to get the maximum and minimum marks of a subject\n",
    "marks = {\"Physics\": 29, \"Maths\": 22, \"English\": 22, \"Web Tech\": 24, \"AIML & IoT\": 23, \"Python Programming\": None}\n",
    "#Cleaing of None type key from the dictionary\n",
    "for key, val in list(marks.items()): #If you doesn't add list you get \"RuntimeError: dictionary changed size during iteration\"\n",
    "    if type(val) != int:\n",
    "        marks.pop(key)\n",
    "\n",
    "#Initialising the maximum and minimum values\n",
    "max_marks = max(marks.values())\n",
    "min_marks = min(marks.values())\n",
    "\n",
    "#Creating empty list\n",
    "subject_maxMarks = []\n",
    "subject_minMarks = []\n",
    "\n",
    "#Appending the maximum and minimum values using for loop\n",
    "for i, j in marks.items():\n",
    "    if max_marks == j:\n",
    "        subject_maxMarks.append(i)\n",
    "    if min_marks == j:\n",
    "        subject_minMarks.append(i)\n",
    "\n",
    "#Printing the maximum and minimum marks\n",
    "print(\"Maximum\", subject_maxMarks, max_marks)\n",
    "print(\"Minimum\", subject_minMarks, min_marks)"
   ]
  }
 ],
 "metadata": {
  "kernelspec": {
   "display_name": "Python 3",
   "language": "python",
   "name": "python3"
  },
  "language_info": {
   "codemirror_mode": {
    "name": "ipython",
    "version": 3
   },
   "file_extension": ".py",
   "mimetype": "text/x-python",
   "name": "python",
   "nbconvert_exporter": "python",
   "pygments_lexer": "ipython3",
   "version": "3.11.5"
  }
 },
 "nbformat": 4,
 "nbformat_minor": 2
}
