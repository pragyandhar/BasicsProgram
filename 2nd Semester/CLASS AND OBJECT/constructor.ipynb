{
 "cells": [
  {
   "cell_type": "code",
   "execution_count": 4,
   "metadata": {},
   "outputs": [
    {
     "name": "stdout",
     "output_type": "stream",
     "text": [
      "This is a constructor\n"
     ]
    }
   ],
   "source": [
    "# CONSTRUCTOR: Special class to initialise the class members if needed which is \"__init__\"\n",
    "class test:\n",
    "    def __init__(self) -> None:\n",
    "        print(\"This is a constructor\")\n",
    "obj = test()"
   ]
  },
  {
   "cell_type": "code",
   "execution_count": 1,
   "metadata": {},
   "outputs": [
    {
     "name": "stdout",
     "output_type": "stream",
     "text": [
      "This is a constructor\n",
      "This is a constructor\n",
      "Ravi object is deleted\n"
     ]
    }
   ],
   "source": [
    "#DESTRUCTOR: A default method to use to simulate the object deletion\n",
    "\n",
    "class test:\n",
    "    def __init__(self) -> None:\n",
    "        print(\"This is a constructor\")\n",
    "    def details(self, name):\n",
    "        self.name = name\n",
    "    def __del__(self):\n",
    "        print(f\"{self.name} object is deleted\")\n",
    "#DRIVER CODE\n",
    "obj1 = test()\n",
    "obj2 = test()\n",
    "obj2.details(\"Ravi\")\n",
    "obj1.details(\"Saket\")\n",
    "del obj2"
   ]
  },
  {
   "cell_type": "code",
   "execution_count": 2,
   "metadata": {},
   "outputs": [
    {
     "name": "stdout",
     "output_type": "stream",
     "text": [
      "<bound method employee.getDetails of <__main__.employee object at 0x00000152633305C0>>\n"
     ]
    }
   ],
   "source": [
    "class employee:\n",
    "    def __init__(self, name, salary) -> None:\n",
    "        self.name = name\n",
    "        self.salary = salary\n",
    "    def getDetails(self):\n",
    "        return f'''\n",
    "        Name : {self.name}\n",
    "        Salary: {self.salary}\n",
    "        '''\n",
    "    def update_sal(self, new_sal):\n",
    "        self.salary = new_sal\n",
    "\n",
    "emp1 = employee(\"Ravi\", \"200000\")\n",
    "emp1.update_sal(10000000)\n",
    "print(emp1.getDetails)"
   ]
  }
 ],
 "metadata": {
  "kernelspec": {
   "display_name": "Python 3",
   "language": "python",
   "name": "python3"
  },
  "language_info": {
   "codemirror_mode": {
    "name": "ipython",
    "version": 3
   },
   "file_extension": ".py",
   "mimetype": "text/x-python",
   "name": "python",
   "nbconvert_exporter": "python",
   "pygments_lexer": "ipython3",
   "version": "3.12.0"
  },
  "orig_nbformat": 4
 },
 "nbformat": 4,
 "nbformat_minor": 2
}
