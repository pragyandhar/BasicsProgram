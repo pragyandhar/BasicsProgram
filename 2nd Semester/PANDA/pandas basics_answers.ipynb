{
 "cells": [
  {
   "cell_type": "markdown",
   "metadata": {},
   "source": [
    "#### PYTHON BASICS ANSWERS"
   ]
  },
  {
   "cell_type": "markdown",
   "metadata": {},
   "source": [
    "Problem 1: Employee Data \n",
    "``` \n",
    "|  ID  |    Name    |  Age  |  Gender  |   City   | \n",
    "|------|------------|-------|----------|----------| \n",
    "|  1   |   Alice    |   25  |  Female  |  New York| \n",
    "|  2   |    Bob     |   30  |   Male   |  London  | \n",
    "|  3   |   Charlie  |   28  |   Male   |  Paris   | \n",
    "|  4   |    Dana    |   35  |  Female  |  Berlin  | \n",
    "``` \n",
    "  \n",
    "a) How many unique cities are represented in the table? \n",
    "b) What is the average age of the individuals in the table? \n",
    "c) How many males and females are there in the table? \n",
    "d) Who is the oldest person in the table? \n",
    "e) Which city has the highest number of individuals?"
   ]
  },
  {
   "cell_type": "code",
   "execution_count": 2,
   "metadata": {},
   "outputs": [],
   "source": [
    "import pandas as pd"
   ]
  },
  {
   "cell_type": "code",
   "execution_count": 3,
   "metadata": {},
   "outputs": [],
   "source": [
    "dict = {'ID':[1,2,3,4],\n",
    "        'Name' : ['Alice','Bob','Charlie','Dana'],\n",
    "        'Age' : [25,30,28,35],\n",
    "        'Gender' : ['Female','Male','Male','Female'],\n",
    "        'City' : ['New York','London','Paris','Berlin']}"
   ]
  },
  {
   "cell_type": "code",
   "execution_count": 5,
   "metadata": {},
   "outputs": [],
   "source": [
    "df = pd.DataFrame(dict)"
   ]
  },
  {
   "cell_type": "code",
   "execution_count": 7,
   "metadata": {},
   "outputs": [
    {
     "name": "stdout",
     "output_type": "stream",
     "text": [
      "(a) How many unique cities are represented in the table?\n",
      "4\n"
     ]
    }
   ],
   "source": [
    "# Question-1: How many unique cities are represented in the table?\n",
    "unique_city = df['City'].unique()\n",
    "print(\"(a) How many unique cities are represented in the table?\")\n",
    "print(len(unique_city))"
   ]
  },
  {
   "cell_type": "code",
   "execution_count": 15,
   "metadata": {},
   "outputs": [
    {
     "name": "stdout",
     "output_type": "stream",
     "text": [
      "(b) What is the average age of the people in the table?\n",
      "29.5\n"
     ]
    }
   ],
   "source": [
    "#Question-2: What is the average age of the people in the table?\n",
    "average_age = df['Age'].mean()\n",
    "print(\"(b) What is the average age of the people in the table?\")\n",
    "print(average_age)"
   ]
  },
  {
   "cell_type": "code",
   "execution_count": 14,
   "metadata": {},
   "outputs": [
    {
     "name": "stdout",
     "output_type": "stream",
     "text": [
      "(c) How many males and females are there in the table?\n",
      "Gender\n",
      "Female    2\n",
      "Male      2\n",
      "Name: count, dtype: int64\n"
     ]
    }
   ],
   "source": [
    "#Question-3: How many males and females are there in the table?\n",
    "gender = df['Gender'].value_counts()\n",
    "print(\"(c) How many males and females are there in the table?\")\n",
    "print(gender)"
   ]
  },
  {
   "cell_type": "code",
   "execution_count": 13,
   "metadata": {},
   "outputs": [
    {
     "name": "stdout",
     "output_type": "stream",
     "text": [
      "(d) Who is the oldest person in the table?\n",
      "Dana\n"
     ]
    }
   ],
   "source": [
    "#Question-4: Who is the oldest person in the table?\n",
    "oldest_person = df['Name'][df['Age'].idxmax()]\n",
    "print(\"(d) Who is the oldest person in the table?\")\n",
    "print(oldest_person)"
   ]
  },
  {
   "cell_type": "code",
   "execution_count": 16,
   "metadata": {},
   "outputs": [
    {
     "name": "stdout",
     "output_type": "stream",
     "text": [
      "(e) Which city has the highest number of individuals?\n",
      "New York\n"
     ]
    }
   ],
   "source": [
    "#Question-5: Which city has the highest number of individuals?\n",
    "city_highest_individual = df['City'].value_counts().idxmax()\n",
    "print(\"(e) Which city has the highest number of individuals?\")\n",
    "print(city_highest_individual)"
   ]
  },
  {
   "cell_type": "markdown",
   "metadata": {},
   "source": []
  },
  {
   "cell_type": "markdown",
   "metadata": {},
   "source": [
    "Problem 2: Student Scores \n",
    "``` \n",
    "|  ID  |   Name   |  Math_Score  |  Science_Score  | \n",
    "|------|----------|--------------|-----------------| \n",
    "|  1   |  Alice   |      85      |       90        | \n",
    "|  2   |   Bob    |      75      |       85        | \n",
    "|  3   | Charlie  |      90      |       80        | \n",
    "|  4   |   Dana   |      80      |       95        | \n",
    "``` \n",
    "  \n",
    "a) What is the average math score? \n",
    "b) What is the highest science score? \n",
    "c) Calculate the total score (sum of math and science scores) for each student. \n",
    "d) Who has the highest total score? \n",
    "e) What is the difference between the average math score and the average science score?"
   ]
  },
  {
   "cell_type": "code",
   "execution_count": 17,
   "metadata": {},
   "outputs": [],
   "source": [
    "dict1 = {'ID':[1,2,3,4],\n",
    "        'Name' : ['Alice','Bob','Charlie','Dana'],\n",
    "        'Math_score' : [85,70,90,95],\n",
    "        'Science_score' : [90,85,88,75]}"
   ]
  },
  {
   "cell_type": "code",
   "execution_count": 19,
   "metadata": {},
   "outputs": [],
   "source": [
    "df1 = pd.DataFrame(dict1)"
   ]
  },
  {
   "cell_type": "code",
   "execution_count": 26,
   "metadata": {},
   "outputs": [
    {
     "name": "stdout",
     "output_type": "stream",
     "text": [
      "(a) What is the average Math score?\n",
      "85.0\n"
     ]
    }
   ],
   "source": [
    "#Question-1: What is the average Math score?\n",
    "average_math_score = df1['Math_score'].mean()\n",
    "print(\"(a) What is the average Math score?\")\n",
    "print(average_math_score)"
   ]
  },
  {
   "cell_type": "code",
   "execution_count": 27,
   "metadata": {},
   "outputs": [
    {
     "name": "stdout",
     "output_type": "stream",
     "text": [
      "(b) What is the highest Science score?\n",
      "90\n"
     ]
    }
   ],
   "source": [
    "#Question-2: What is the highest Science score?\n",
    "highest_science_score = df1['Science_score'].idxmax()\n",
    "print(\"(b) What is the highest Science score?\")\n",
    "print(highest_science_score)"
   ]
  },
  {
   "cell_type": "code",
   "execution_count": 28,
   "metadata": {},
   "outputs": [
    {
     "name": "stdout",
     "output_type": "stream",
     "text": [
      "(c) Calculate the total score for each student\n",
      "   ID     Name  Math_score  Science_score  Total_score\n",
      "0   1    Alice          85             90          175\n",
      "1   2      Bob          70             85          155\n",
      "2   3  Charlie          90             88          178\n",
      "3   4     Dana          95             75          170\n"
     ]
    }
   ],
   "source": [
    "#Question-3: Calculate the total score for each student\n",
    "df1['Total_score'] = df1['Math_score'] + df1['Science_score']\n",
    "print(\"(c) Calculate the total score for each student\")\n",
    "print(df1)"
   ]
  },
  {
   "cell_type": "code",
   "execution_count": 29,
   "metadata": {},
   "outputs": [
    {
     "name": "stdout",
     "output_type": "stream",
     "text": [
      "(d) Who has the highest total score?\n",
      "Charlie\n"
     ]
    }
   ],
   "source": [
    "#Question-4: Who has the highest total score?\n",
    "highest_total_score = df1['Name'][df1['Total_score'].idxmax()]\n",
    "print(\"(d) Who has the highest total score?\")\n",
    "print(highest_total_score)"
   ]
  },
  {
   "cell_type": "code",
   "execution_count": 30,
   "metadata": {},
   "outputs": [
    {
     "name": "stdout",
     "output_type": "stream",
     "text": [
      "(e) What is the difference between average Math score and average Science score?\n",
      "0.5\n"
     ]
    }
   ],
   "source": [
    "#Question-5: What is the difference between average Math score and average Science score?\n",
    "average_math_score = df1['Math_score'].mean()\n",
    "average_science_score = df1['Science_score'].mean()\n",
    "difference = average_math_score - average_science_score\n",
    "print(\"(e) What is the difference between average Math score and average Science score?\")\n",
    "print(difference)"
   ]
  },
  {
   "cell_type": "markdown",
   "metadata": {},
   "source": []
  },
  {
   "cell_type": "markdown",
   "metadata": {},
   "source": [
    "Problem 3: Product Sales \n",
    "``` \n",
    "|  ID  |  Product  |  Quantity  |  Price_per_Unit  | \n",
    "|------|-----------|------------|------------------| \n",
    "|  1   |   Apple   |     100    |       2.5        | \n",
    "|  2   |  Banana   |     150    |       1.8        | \n",
    "|  3   |  Orange   |     120    |       3.0        | \n",
    "|  4   |  Mango    |      80    |       2.7        | \n",
    "``` \n",
    "a) What is the total revenue generated from each product (quantity * price_per_unit)? \n",
    "b) Which product has the highest total revenue? \n",
    "c) Calculate the average price per unit across all products. \n",
    "d) What is the total quantity of all products sold? \n",
    "e) How many different types of products are there?"
   ]
  },
  {
   "cell_type": "code",
   "execution_count": 31,
   "metadata": {},
   "outputs": [],
   "source": [
    "dict2 = {'ID':[1,2,3,4],\n",
    "         'Product': ['Apple', 'Banana', 'Orange', 'Mango'],\n",
    "         'Quantity': [100, 150, 120, 80],\n",
    "         'Price_per_Unit': [2.5,1.8,3.0,2.7]}"
   ]
  },
  {
   "cell_type": "code",
   "execution_count": 32,
   "metadata": {},
   "outputs": [],
   "source": [
    "df2 = pd.DataFrame(dict2)"
   ]
  },
  {
   "cell_type": "code",
   "execution_count": 37,
   "metadata": {},
   "outputs": [
    {
     "name": "stdout",
     "output_type": "stream",
     "text": [
      "(a) What is the total revenue generated from each product (quantity * price per unit)?\n",
      "   ID Product  Quantity  Price_per_Unit  Total_revenue\n",
      "0   1   Apple       100             2.5          250.0\n",
      "1   2  Banana       150             1.8          270.0\n",
      "2   3  Orange       120             3.0          360.0\n",
      "3   4   Mango        80             2.7          216.0\n"
     ]
    }
   ],
   "source": [
    "#Question-1: What is the total revenue generated from each product (quantity * price per unit)?\n",
    "df2['Total_revenue'] = df2['Quantity'] * df2['Price_per_Unit']\n",
    "print(\"(a) What is the total revenue generated from each product (quantity * price per unit)?\")\n",
    "print(df2)"
   ]
  },
  {
   "cell_type": "code",
   "execution_count": 38,
   "metadata": {},
   "outputs": [
    {
     "name": "stdout",
     "output_type": "stream",
     "text": [
      "(b) Which product has the highest total revenue?\n",
      "Orange\n"
     ]
    }
   ],
   "source": [
    "#Question-2: Which product has the highest total revenue?\n",
    "highest_total_revenue = df2['Product'][df2['Total_revenue'].idxmax()]\n",
    "print(\"(b) Which product has the highest total revenue?\")\n",
    "print(highest_total_revenue)"
   ]
  },
  {
   "cell_type": "code",
   "execution_count": 39,
   "metadata": {},
   "outputs": [
    {
     "name": "stdout",
     "output_type": "stream",
     "text": [
      "(c) What is the average price per unit across all the products?\n",
      "2.5\n"
     ]
    }
   ],
   "source": [
    "#Question-3: What is the average price per unit across all the products?\n",
    "average_price_per_unit = df2['Price_per_Unit'].mean()\n",
    "print(\"(c) What is the average price per unit across all the products?\")\n",
    "print(average_price_per_unit)"
   ]
  },
  {
   "cell_type": "code",
   "execution_count": 40,
   "metadata": {},
   "outputs": [
    {
     "name": "stdout",
     "output_type": "stream",
     "text": [
      "(d) What is the total quantity of all products sold?\n",
      "450\n"
     ]
    }
   ],
   "source": [
    "#Question-4: What is the total quantity of all products sold?\n",
    "total_quantity = df2['Quantity'].sum()\n",
    "print(\"(d) What is the total quantity of all products sold?\")\n",
    "print(total_quantity)"
   ]
  },
  {
   "cell_type": "code",
   "execution_count": 43,
   "metadata": {},
   "outputs": [
    {
     "name": "stdout",
     "output_type": "stream",
     "text": [
      "(e) How many different types of products are there?\n",
      "4\n"
     ]
    }
   ],
   "source": [
    "#Question-5: How many different types of products are there?\n",
    "different_types_of_products = df2['Product'].nunique()\n",
    "print(\"(e) How many different types of products are there?\")\n",
    "print(different_types_of_products)"
   ]
  },
  {
   "cell_type": "markdown",
   "metadata": {},
   "source": []
  },
  {
   "cell_type": "markdown",
   "metadata": {},
   "source": [
    "Problem 4: Customer Feedback \n",
    "``` \n",
    "|  ID  |  Customer  |  Satisfaction_Score  |  Feedback  | \n",
    "|------|------------|----------------------|------------| \n",
    "|  1   |   Alice    |          4           |   Good     | \n",
    "|  2   |    Bob     |          3           |   Average  | \n",
    "|  3   |   Charlie  |          5           |   Excellent| \n",
    "|  4   |    Dana    |          2           |   Poor     | \n",
    "``` \n",
    "a) What is the average satisfaction score? \n",
    "b) How many customers provided feedback classified as \"Good\"? \n",
    "c) Calculate the percentage of customers who provided feedback classified as \"Excellent\". \n",
    "d) Which customer provided the lowest satisfaction score? \n",
    "e) What is the most common type of feedback received?"
   ]
  },
  {
   "cell_type": "code",
   "execution_count": 44,
   "metadata": {},
   "outputs": [],
   "source": [
    "dict3 = {'ID':[1,2,3,4],\n",
    "         'Customer': ['Alice', 'Bob', 'Charlie', 'Dana'],\n",
    "         'Satisfaction_Score': [4,3,5,2],\n",
    "         'Feedback': ['Good', 'Average', 'Excellent', 'Poor']}"
   ]
  },
  {
   "cell_type": "code",
   "execution_count": 45,
   "metadata": {},
   "outputs": [],
   "source": [
    "df3 = pd.DataFrame(dict3)"
   ]
  },
  {
   "cell_type": "code",
   "execution_count": 50,
   "metadata": {},
   "outputs": [
    {
     "name": "stdout",
     "output_type": "stream",
     "text": [
      "(a) What is the average satisfaction score?\n",
      "3.5\n"
     ]
    }
   ],
   "source": [
    "#Question-1: What is the average satisfaction score?\n",
    "average_satisfaction_score = df3['Satisfaction_Score'].mean()\n",
    "print(\"(a) What is the average satisfaction score?\")\n",
    "print(average_satisfaction_score)"
   ]
  },
  {
   "cell_type": "code",
   "execution_count": 51,
   "metadata": {},
   "outputs": [
    {
     "name": "stdout",
     "output_type": "stream",
     "text": [
      "(b) How many customers provided feedback classified as 'Good'?\n",
      "1\n"
     ]
    }
   ],
   "source": [
    "#Question-2: How many customers provided feedback classified as \"Good\"?\n",
    "good_feedback = df3['Feedback'].value_counts()['Good']\n",
    "print(\"(b) How many customers provided feedback classified as 'Good'?\")\n",
    "print(good_feedback)"
   ]
  },
  {
   "cell_type": "code",
   "execution_count": 52,
   "metadata": {},
   "outputs": [
    {
     "name": "stdout",
     "output_type": "stream",
     "text": [
      "(c) Calculate the percentage of customers who provided feedback classified as 'Excellent'.\n",
      "25.0\n"
     ]
    }
   ],
   "source": [
    "#Question-3: Calculate the percentage of customers who provided feedback classified as \"Excellent\".\n",
    "total_customers = len(df3)\n",
    "excellent_feedback = df3['Feedback'].value_counts()['Excellent']\n",
    "percentage = (excellent_feedback / total_customers) * 100\n",
    "print(\"(c) Calculate the percentage of customers who provided feedback classified as 'Excellent'.\")\n",
    "print(percentage)"
   ]
  },
  {
   "cell_type": "code",
   "execution_count": 53,
   "metadata": {},
   "outputs": [
    {
     "name": "stdout",
     "output_type": "stream",
     "text": [
      "(d) Which customer has given the lowest satisfaction score?\n",
      "Dana\n"
     ]
    }
   ],
   "source": [
    "#Question-4: Which customer has given the lowest satisfaction score?\n",
    "lowest_satisfaction_score = df3['Customer'][df3['Satisfaction_Score'].idxmin()]\n",
    "print(\"(d) Which customer has given the lowest satisfaction score?\")\n",
    "print(lowest_satisfaction_score)"
   ]
  },
  {
   "cell_type": "code",
   "execution_count": 54,
   "metadata": {},
   "outputs": [
    {
     "name": "stdout",
     "output_type": "stream",
     "text": [
      "(e) What is the most common type of feedback received?\n",
      "Good\n"
     ]
    }
   ],
   "source": [
    "#Question-5: What is the most common type of feedback received?\n",
    "most_common_feedback = df3['Feedback'].value_counts().idxmax()\n",
    "print(\"(e) What is the most common type of feedback received?\")\n",
    "print(most_common_feedback)"
   ]
  },
  {
   "cell_type": "markdown",
   "metadata": {},
   "source": []
  },
  {
   "cell_type": "markdown",
   "metadata": {},
   "source": [
    "Problem 5: Employee Salaries \n",
    "``` \n",
    "|  ID  |    Name    |  Salary  |  Department  | \n",
    "|------|------------|----------|--------------| \n",
    "|  1   |   Alice    |   50000  |  Marketing   | \n",
    "|  2   |    Bob     |   60000  |  Finance     | \n",
    "|  3   |   Charlie  |   55000  |  HR          | \n",
    "|  4   |    Dana    |   65000  |  Operations  | \n",
    "``` \n",
    "a) What is the average salary across all departments? \n",
    "b) Which department has the highest average salary? \n",
    "c) Calculate the total salary expense for each department. \n",
    "d) Who is the highest-paid employee? \n",
    "e) What is the difference between the salary of the highest-paid employee and the average \n",
    "salary?"
   ]
  },
  {
   "cell_type": "code",
   "execution_count": 55,
   "metadata": {},
   "outputs": [],
   "source": [
    "dict4 = {'ID':[1,2,3,4],\n",
    "         'Name': ['Alice', 'Bob', 'Charlie', 'Dana'],\n",
    "         'Salary': [50000, 60000, 55000, 65000],\n",
    "         'Department': ['Marketing', 'Finance', 'HR', 'Operations']}"
   ]
  },
  {
   "cell_type": "code",
   "execution_count": 56,
   "metadata": {},
   "outputs": [],
   "source": [
    "df4 = pd.DataFrame(dict4)"
   ]
  },
  {
   "cell_type": "code",
   "execution_count": 61,
   "metadata": {},
   "outputs": [
    {
     "name": "stdout",
     "output_type": "stream",
     "text": [
      "(a) What is the average salary across all departments?\n",
      "57500.0\n"
     ]
    }
   ],
   "source": [
    "#Question-1: What is the average salary across all departments?\n",
    "average_salary = df4['Salary'].mean()\n",
    "print(\"(a) What is the average salary across all departments?\")\n",
    "print(average_salary)"
   ]
  },
  {
   "cell_type": "code",
   "execution_count": 62,
   "metadata": {},
   "outputs": [
    {
     "name": "stdout",
     "output_type": "stream",
     "text": [
      "(b) Which depatrment has the highest average salary?\n",
      "Operations\n"
     ]
    }
   ],
   "source": [
    "#Question-2: Which depatrment has the highest average salary?\n",
    "highest_average_salary = df4.groupby('Department')['Salary'].mean().idxmax()\n",
    "print(\"(b) Which depatrment has the highest average salary?\")\n",
    "print(highest_average_salary)"
   ]
  },
  {
   "cell_type": "code",
   "execution_count": 63,
   "metadata": {},
   "outputs": [
    {
     "name": "stdout",
     "output_type": "stream",
     "text": [
      "(c) Calculate the total salary expense for each department?\n",
      "Department\n",
      "Finance       60000\n",
      "HR            55000\n",
      "Marketing     50000\n",
      "Operations    65000\n",
      "Name: Salary, dtype: int64\n"
     ]
    }
   ],
   "source": [
    "#Question-3: Calculate the total salary expense for each department?\n",
    "total_salary_expense = df4.groupby('Department')['Salary'].sum()\n",
    "print(\"(c) Calculate the total salary expense for each department?\")\n",
    "print(total_salary_expense)"
   ]
  },
  {
   "cell_type": "code",
   "execution_count": 64,
   "metadata": {},
   "outputs": [
    {
     "name": "stdout",
     "output_type": "stream",
     "text": [
      "(d) Who is the highest paid employee?\n",
      "Dana\n"
     ]
    }
   ],
   "source": [
    "#Question-4: Who is the highest paid employee?\n",
    "highest_paid_employee = df4['Name'][df4['Salary'].idxmax()]\n",
    "print(\"(d) Who is the highest paid employee?\")\n",
    "print(highest_paid_employee)"
   ]
  },
  {
   "cell_type": "code",
   "execution_count": 65,
   "metadata": {},
   "outputs": [
    {
     "name": "stdout",
     "output_type": "stream",
     "text": [
      "(e) What is the difference between the salary of the highest paid employee and the average salary?\n",
      "7500.0\n"
     ]
    }
   ],
   "source": [
    "#Question-5: What is the difference between the salary of the highest paid employee and the average salary?\n",
    "average_salary = df4['Salary'].mean()\n",
    "highest_paid_employee_salary = df4['Salary'].max()\n",
    "difference = highest_paid_employee_salary - average_salary\n",
    "print(\"(e) What is the difference between the salary of the highest paid employee and the average salary?\")\n",
    "print(difference)"
   ]
  }
 ],
 "metadata": {
  "kernelspec": {
   "display_name": "Python 3",
   "language": "python",
   "name": "python3"
  },
  "language_info": {
   "codemirror_mode": {
    "name": "ipython",
    "version": 3
   },
   "file_extension": ".py",
   "mimetype": "text/x-python",
   "name": "python",
   "nbconvert_exporter": "python",
   "pygments_lexer": "ipython3",
   "version": "3.12.2"
  },
  "orig_nbformat": 4
 },
 "nbformat": 4,
 "nbformat_minor": 2
}
