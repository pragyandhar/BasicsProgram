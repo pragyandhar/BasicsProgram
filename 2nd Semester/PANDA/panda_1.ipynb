{
 "cells": [
  {
   "cell_type": "code",
   "execution_count": 7,
   "metadata": {},
   "outputs": [],
   "source": [
    "import pandas as pd"
   ]
  },
  {
   "cell_type": "code",
   "execution_count": 2,
   "metadata": {},
   "outputs": [],
   "source": [
    "series = pd.Series([1, 2, 3, 4, 5], index=['a', 'b', 'c', 'd', 'e'])"
   ]
  },
  {
   "cell_type": "code",
   "execution_count": 3,
   "metadata": {},
   "outputs": [
    {
     "name": "stdout",
     "output_type": "stream",
     "text": [
      "a    1\n",
      "b    2\n",
      "c    3\n",
      "d    4\n",
      "e    5\n",
      "dtype: int64\n"
     ]
    }
   ],
   "source": [
    "print(series)"
   ]
  },
  {
   "cell_type": "markdown",
   "metadata": {},
   "source": [
    "#### PANDAS DATAFRAME\n",
    "Pandas dataframe can be added using the following syntax:\n",
    "    pandas.DataFrame(data, index, column, dtype, copy)"
   ]
  },
  {
   "cell_type": "code",
   "execution_count": 6,
   "metadata": {},
   "outputs": [
    {
     "name": "stdout",
     "output_type": "stream",
     "text": [
      "     Name  Age\n",
      "0  Rakesh   10\n",
      "1   Ballu   12\n",
      "2  Chetan   23\n"
     ]
    }
   ],
   "source": [
    "data = [['Rakesh', 10], ['Ballu', 42], ['Chetan', 23]]\n",
    "df = pd.DataFrame(data, columns=['Name', 'Age'])\n",
    "print(df)"
   ]
  },
  {
   "cell_type": "code",
   "execution_count": 12,
   "metadata": {},
   "outputs": [
    {
     "name": "stdout",
     "output_type": "stream",
     "text": [
      "        Name  Age\n",
      "0     Ramesh   70\n",
      "1       Amar   50\n",
      "2  Chaumuhan   99\n"
     ]
    }
   ],
   "source": [
    "data = {'Name': ['Ramesh', 'Amar', 'Chaumuhan'], 'Age': [70, 50, 99]}\n",
    "df = pd.DataFrame(data)\n",
    "print(df)"
   ]
  },
  {
   "cell_type": "code",
   "execution_count": 13,
   "metadata": {},
   "outputs": [
    {
     "name": "stdout",
     "output_type": "stream",
     "text": [
      "            Name  Age\n",
      "rank1     Ramesh   70\n",
      "rank2       Amar   50\n",
      "rank3  Chaumuhan   99\n"
     ]
    }
   ],
   "source": [
    "data = {'Name': ['Ramesh', 'Amar', 'Chaumuhan'], 'Age': [70, 50, 99]}\n",
    "df = pd.DataFrame(data, index=['rank1', 'rank2', 'rank3'])\n",
    "print(df)"
   ]
  }
 ],
 "metadata": {
  "kernelspec": {
   "display_name": "Python 3",
   "language": "python",
   "name": "python3"
  },
  "language_info": {
   "codemirror_mode": {
    "name": "ipython",
    "version": 3
   },
   "file_extension": ".py",
   "mimetype": "text/x-python",
   "name": "python",
   "nbconvert_exporter": "python",
   "pygments_lexer": "ipython3",
   "version": "3.12.2"
  },
  "orig_nbformat": 4
 },
 "nbformat": 4,
 "nbformat_minor": 2
}
