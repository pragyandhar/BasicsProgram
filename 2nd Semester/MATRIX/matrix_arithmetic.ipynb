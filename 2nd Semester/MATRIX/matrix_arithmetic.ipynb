{
 "cells": [
  {
   "cell_type": "code",
   "execution_count": 22,
   "metadata": {},
   "outputs": [
    {
     "name": "stdout",
     "output_type": "stream",
     "text": [
      "\n",
      "Matrix 1\n",
      "1 2\n",
      "3 4\n",
      "\n",
      "Matrix 2\n",
      "2 3\n",
      "4 5\n",
      "\n",
      "Transpose\n",
      "<__main__.Array object at 0x00000289C8FC6000>\n"
     ]
    }
   ],
   "source": [
    "class Array:\n",
    "    def __init__(self, lst, r=0, c=0):\n",
    "        self.lst = lst\n",
    "        self.r = r\n",
    "        self.c = c\n",
    "        if r != 0 and c != 0:\n",
    "            M = []\n",
    "            tmp = []\n",
    "            for i in lst:\n",
    "                tmp.append(i)\n",
    "                if len(tmp) == c:\n",
    "                    M.append(tmp)\n",
    "                    tmp = []\n",
    "            self.lst = M\n",
    "\n",
    "    def __add__(self, other):\n",
    "        if self.r == other.r and self.c == other.c:\n",
    "            M = eval(str([[0]*self.c] * self.r))\n",
    "            for i in range(self.r):\n",
    "                for j in range(self.c):\n",
    "                    M[i][j] = self.lst[i][j] + other.lst[i][j]\n",
    "            return M\n",
    "        else:\n",
    "            return \"Invalid operation\"\n",
    "        \n",
    "    def dot(self, other):\n",
    "        if self.c == other.r:\n",
    "            M = eval(str([[0]*other.c] * self.r))\n",
    "            for i in range(self.r):\n",
    "                for j in range(other.c):\n",
    "                    for k in range(self.c):\n",
    "                        M[i][j] += self.lst[i][k] * other.lst[k][j]\n",
    "            return M\n",
    "        else:\n",
    "            return \"Invalid operation\"\n",
    "\n",
    "    def transpose(self):\n",
    "        # self.r, self.c = self.c, self.r\n",
    "        M = eval(str([[0]*self.r] * self.c))\n",
    "        for i in range(self.r):\n",
    "            for j in range(self.c):\n",
    "                M[i][j] = self.lst[j][i]\n",
    "        return Array(M)          \n",
    "\n",
    "    def disp_mat(self):\n",
    "        for i in self.lst:\n",
    "            print(*i)\n",
    "\n",
    "lst1 = list(map(eval, input().split()))\n",
    "r1,c1 = list(map(eval, input().split()))\n",
    "arr1 = Array(lst1, r1, c1)\n",
    "\n",
    "lst2 = list(map(eval, input().split()))\n",
    "r2,c2 = list(map(eval, input().split()))\n",
    "arr2 = Array(lst2, r2, c2)\n",
    "\n",
    "print(\"\\nMatrix 1\")\n",
    "arr1.disp_mat()\n",
    "print(\"\\nMatrix 2\")\n",
    "arr2.disp_mat()\n",
    "\n",
    "print(\"\\nTranspose\")\n",
    "o = arr1.transpose()\n",
    "print(o)"
   ]
  },
  {
   "cell_type": "code",
   "execution_count": 8,
   "metadata": {},
   "outputs": [
    {
     "name": "stdout",
     "output_type": "stream",
     "text": [
      "[[0, 0, 100], [0, 0, 100], [0, 0, 100]]\n"
     ]
    }
   ],
   "source": [
    "ls = [[0]*2] * 3\n",
    "ls[0].append(100)\n",
    "print(ls)"
   ]
  },
  {
   "cell_type": "code",
   "execution_count": 9,
   "metadata": {},
   "outputs": [
    {
     "name": "stdout",
     "output_type": "stream",
     "text": [
      "[[0, 0, 100], [0, 0], [0, 0]]\n"
     ]
    }
   ],
   "source": [
    "ls = eval(str([[0]*2] * 3))\n",
    "ls[0].append(100)\n",
    "print(repr(ls))"
   ]
  },
  {
   "cell_type": "code",
   "execution_count": 25,
   "metadata": {},
   "outputs": [
    {
     "name": "stdout",
     "output_type": "stream",
     "text": [
      "[2, 4, 6, 0, 3, 10, 0]\n"
     ]
    }
   ],
   "source": [
    "#nested to flatten of any order\n",
    "'''\n",
    "nested: [2, [4,6,[0]], [[[[3]]]], 10, [], [], 0]\n",
    "flatten: [2, 4, 6, 0, 3, 10, 0]\n",
    "'''\n",
    "\n",
    "def flatten(lst):\n",
    "    res = []\n",
    "    for i in lst:\n",
    "        if type(i) == list:\n",
    "            res.extend(flatten(i))\n",
    "        else:\n",
    "            res.append(i)\n",
    "    return res\n",
    "\n",
    "lst = [2, [4,6,[0]], [[[[3]]]], 10, [], [], 0]\n",
    "print(flatten(lst))"
   ]
  }
 ],
 "metadata": {
  "kernelspec": {
   "display_name": "Python 3",
   "language": "python",
   "name": "python3"
  },
  "language_info": {
   "codemirror_mode": {
    "name": "ipython",
    "version": 3
   },
   "file_extension": ".py",
   "mimetype": "text/x-python",
   "name": "python",
   "nbconvert_exporter": "python",
   "pygments_lexer": "ipython3",
   "version": "3.12.2"
  },
  "orig_nbformat": 4
 },
 "nbformat": 4,
 "nbformat_minor": 2
}
