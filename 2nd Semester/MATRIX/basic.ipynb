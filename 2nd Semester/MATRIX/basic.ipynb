{
 "cells": [
  {
   "cell_type": "code",
   "execution_count": 1,
   "metadata": {},
   "outputs": [
    {
     "name": "stdout",
     "output_type": "stream",
     "text": [
      "[1, 2, 3, 4, 5, 6, 7]\n"
     ]
    }
   ],
   "source": [
    "# MATRIX: A mathematical arrangement of data (numbers) in rows and columns\n",
    "\n",
    "# How to list from user?\n",
    "lst = list(map(int, input().split())) # 3 4 5 6 7\n",
    "print(lst)"
   ]
  },
  {
   "cell_type": "code",
   "execution_count": 5,
   "metadata": {},
   "outputs": [
    {
     "name": "stdout",
     "output_type": "stream",
     "text": [
      "0\n"
     ]
    }
   ],
   "source": [
    "#Dimension in array (list)\n",
    "\n",
    "lst = [[3,4],[6,7],[3,0]]\n",
    "out = lst[2][1]\n",
    "print(out)"
   ]
  },
  {
   "cell_type": "code",
   "execution_count": 12,
   "metadata": {},
   "outputs": [
    {
     "name": "stdout",
     "output_type": "stream",
     "text": [
      "3 4\n",
      "6 7\n"
     ]
    }
   ],
   "source": [
    "#Dimension in array (list)\n",
    "\n",
    "lst = [[3,4],[6,7]]\n",
    "for i in lst:\n",
    "    print(*i) #* takes each value in the iteration of the array"
   ]
  },
  {
   "cell_type": "code",
   "execution_count": 1,
   "metadata": {},
   "outputs": [
    {
     "name": "stdout",
     "output_type": "stream",
     "text": [
      "1 2\n",
      "3 4\n"
     ]
    }
   ],
   "source": [
    "# TASK: Read an array and a dimension and convert the array with equivalent dimension.\n",
    "class Matrix: \n",
    "    def __init__(self, array):\n",
    "        self.array = array\n",
    "    def validity(self, m, n):\n",
    "        return len(self.array) == m * n\n",
    "    def create_matrix(self, m, n):\n",
    "        self.m = []\n",
    "        for i in range(m):\n",
    "            self.m.append(self.array[i*n:i*n+n])     \n",
    "    def display_matrix(self):\n",
    "        for i in self.m:\n",
    "            print(*i)\n",
    "\n",
    "\n",
    "lst = list(map(int, input().split()))\n",
    "row, column = list(map(int, input().split()))\n",
    "m = Matrix(lst)\n",
    "# print(m.validity(row, column))\n",
    "\n",
    "if m.validity(row, column):\n",
    "    m.create_matrix(row, column)\n",
    "    m.display_matrix()\n",
    "else:\n",
    "    print('Invalid Dimension')"
   ]
  }
 ],
 "metadata": {
  "kernelspec": {
   "display_name": "Python 3",
   "language": "python",
   "name": "python3"
  },
  "language_info": {
   "codemirror_mode": {
    "name": "ipython",
    "version": 3
   },
   "file_extension": ".py",
   "mimetype": "text/x-python",
   "name": "python",
   "nbconvert_exporter": "python",
   "pygments_lexer": "ipython3",
   "version": "3.12.0"
  },
  "orig_nbformat": 4
 },
 "nbformat": 4,
 "nbformat_minor": 2
}
