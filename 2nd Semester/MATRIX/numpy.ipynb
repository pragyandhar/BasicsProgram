{
 "cells": [
  {
   "cell_type": "code",
   "execution_count": null,
   "metadata": {},
   "outputs": [],
   "source": [
    "import numpy as np\n",
    "import time as t\n",
    "data = range(100000)\n",
    "arr1 = np.array(data)\n",
    "lst1 = list(data)"
   ]
  },
  {
   "cell_type": "code",
   "execution_count": null,
   "metadata": {},
   "outputs": [],
   "source": [
    "start = t.time()\n",
    "list_data = [i*2 for i in lst1]\n",
    "stop = t.time()\n",
    "print(\"Numpy time: \", stop - start)\n",
    "\n",
    "start = t.time()\n",
    "arr1_data = arr1*2\n",
    "stop = t.time()\n",
    "print(\"List time: \", stop - start)"
   ]
  },
  {
   "cell_type": "code",
   "execution_count": 24,
   "metadata": {},
   "outputs": [
    {
     "name": "stdout",
     "output_type": "stream",
     "text": [
      "[7, 7, 7, 12, 12]\n"
     ]
    }
   ],
   "source": [
    "class array:\n",
    "    def __init__(self, lst):\n",
    "        self.lst = lst\n",
    "    def __str__(self):\n",
    "        return str(self.lst).replace(',','')\n",
    "    def __add__(self, other):\n",
    "        self.lst\n",
    "        other.lst\n",
    "        for i in range(len(self.lst)):\n",
    "            self.lst[i] += other.lst[i]\n",
    "        return self.lst\n",
    "    def reshape(self, m, n):\n",
    "        M = []\n",
    "        tmp = []\n",
    "        for i in self.lst:\n",
    "            tmp.append(i)\n",
    "            if len(tmp) == n:\n",
    "                M.append(tmp)\n",
    "                tmp = []\n",
    "        return array(M)\n",
    "\n",
    "arr1 = array([2, 3, 3, 4, 5])\n",
    "arr2 = array([5, 4, 4, 8, 7])\n",
    "out = arr1.reshape(3,2)\n",
    "print(out)"
   ]
  },
  {
   "cell_type": "code",
   "execution_count": 26,
   "metadata": {},
   "outputs": [
    {
     "name": "stdout",
     "output_type": "stream",
     "text": [
      "[6, 6, 7, 7, 12]\n"
     ]
    }
   ],
   "source": [
    "arr1 = array([1, 2, 3, 4, 5])\n",
    "arr2 = array([5, 4, 4, 3, 7])\n",
    "print(arr1 + arr2)"
   ]
  }
 ],
 "metadata": {
  "kernelspec": {
   "display_name": "Python 3",
   "language": "python",
   "name": "python3"
  },
  "language_info": {
   "codemirror_mode": {
    "name": "ipython",
    "version": 3
   },
   "file_extension": ".py",
   "mimetype": "text/x-python",
   "name": "python",
   "nbconvert_exporter": "python",
   "pygments_lexer": "ipython3",
   "version": "3.12.0"
  },
  "orig_nbformat": 4
 },
 "nbformat": 4,
 "nbformat_minor": 2
}
