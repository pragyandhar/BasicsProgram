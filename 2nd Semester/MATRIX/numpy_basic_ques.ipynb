{
 "cells": [
  {
   "cell_type": "code",
   "execution_count": 1,
   "metadata": {},
   "outputs": [
    {
     "data": {
      "text/plain": [
       "'\\nTask 1 \\nYou are given a space separated list of numbers. \\nYour task is to print a reversed Numpy array with the element type float. \\n\\nInput Format \\nA single line of input containing space separated numbers. \\nOutput Format \\nPrint the reverse NumPy array with type float. \\n\\nSample Input \\n1 2 3 4 -8 -10 \\nSample Output\\n[-10. -8. 4. 3. 2. 1.]\\n'"
      ]
     },
     "execution_count": 1,
     "metadata": {},
     "output_type": "execute_result"
    }
   ],
   "source": [
    "'''\n",
    "Task 1 \n",
    "You are given a space separated list of numbers. \n",
    "Your task is to print a reversed Numpy array with the element type float. \n",
    "\n",
    "Input Format \n",
    "A single line of input containing space separated numbers. \n",
    "Output Format \n",
    "Print the reverse NumPy array with type float. \n",
    "\n",
    "Sample Input \n",
    "1 2 3 4 -8 -10 \n",
    "Sample Output\n",
    "[-10. -8. 4. 3. 2. 1.]\n",
    "'''"
   ]
  },
  {
   "cell_type": "code",
   "execution_count": null,
   "metadata": {},
   "outputs": [],
   "source": [
    "#Task 1\n",
    "import numpy as np\n"
   ]
  }
 ],
 "metadata": {
  "kernelspec": {
   "display_name": "Python 3",
   "language": "python",
   "name": "python3"
  },
  "language_info": {
   "codemirror_mode": {
    "name": "ipython",
    "version": 3
   },
   "file_extension": ".py",
   "mimetype": "text/x-python",
   "name": "python",
   "nbconvert_exporter": "python",
   "pygments_lexer": "ipython3",
   "version": "3.12.2"
  },
  "orig_nbformat": 4
 },
 "nbformat": 4,
 "nbformat_minor": 2
}
