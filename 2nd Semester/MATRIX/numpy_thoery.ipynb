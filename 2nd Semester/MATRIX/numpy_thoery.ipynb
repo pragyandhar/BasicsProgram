{
 "cells": [
  {
   "cell_type": "code",
   "execution_count": 2,
   "metadata": {},
   "outputs": [],
   "source": [
    "import numpy as np"
   ]
  },
  {
   "cell_type": "markdown",
   "metadata": {},
   "source": [
    ">>np.array(object, dtype = None, ndmin = 0)\n",
    "object: Any object exposing the array interface method returns an array, or any (nested) sequence\n",
    "dtype: Desired data type of array, optional\n",
    "ndmin: Specifies minimum dimensions of resultant array\n",
    "\n",
    "Example 1\n",
    "import numpy as np\n",
    "a = np.array([1,2,3])\n",
    "print(a)\n",
    "The output is as follows −\n",
    "[1 2 3]\n",
    "\n",
    "Example 2\n",
    "# more than one dimensions\n",
    "import numpy as np\n",
    "a = np.array([[1, 2], [3, 4]])\n",
    "print(a)\n",
    "The output is as follows −\n",
    "[[1 2]\n",
    "[3 4]]\n",
    "\n",
    "Example 3\n",
    "# minimum dimensions\n",
    "import numpy as np\n",
    "a = np.array([1, 2, 3,4,5], ndmin = 2)\n",
    "print(a)\n",
    "The output is as follows −\n",
    "[[1 2 3 4 5]]\n",
    "\n",
    "Example 4\n",
    "# dtype parameter\n",
    "import numpy as np\n",
    "a = np.array([1, 2, 3], dtype = complex)\n",
    "print (a)\n",
    "The output is as follows −\n",
    "[ 1.+0.j 2.+0.j 3.+0.j]"
   ]
  },
  {
   "cell_type": "code",
   "execution_count": 1,
   "metadata": {},
   "outputs": [
    {
     "name": "stdout",
     "output_type": "stream",
     "text": [
      "[1 2 3]\n"
     ]
    }
   ],
   "source": [
    "#EXAMPLE-1\n",
    "import numpy as np\n",
    "a = np.array([1,2,3])\n",
    "print(a)"
   ]
  },
  {
   "cell_type": "code",
   "execution_count": 2,
   "metadata": {},
   "outputs": [
    {
     "name": "stdout",
     "output_type": "stream",
     "text": [
      "[[1 2]\n",
      " [3 4]]\n"
     ]
    }
   ],
   "source": [
    "#EXAMPLE-2\n",
    "import numpy as np\n",
    "a = np.array([[1, 2], [3, 4]])\n",
    "print(a)"
   ]
  },
  {
   "cell_type": "code",
   "execution_count": 3,
   "metadata": {},
   "outputs": [
    {
     "name": "stdout",
     "output_type": "stream",
     "text": [
      "[[1 2 3 4 5]]\n"
     ]
    }
   ],
   "source": [
    "#EXAMPLE-3\n",
    "import numpy as np\n",
    "a = np.array([1, 2, 3,4,5], ndmin = 2)\n",
    "print(a)"
   ]
  },
  {
   "cell_type": "code",
   "execution_count": 4,
   "metadata": {},
   "outputs": [
    {
     "name": "stdout",
     "output_type": "stream",
     "text": [
      "[1.+0.j 2.+0.j 3.+0.j]\n"
     ]
    }
   ],
   "source": [
    "#EXAMPLE-4\n",
    "import numpy as np\n",
    "a = np.array([1, 2, 3], dtype = complex)\n",
    "print(a)"
   ]
  },
  {
   "cell_type": "markdown",
   "metadata": {},
   "source": [
    "# Task 1\n",
    "You are given a space separated list of numbers.\n",
    "Your task is to print a reversed Numpy array with the element type float.\n",
    "\n",
    "Input Format\n",
    "A single line of input containing space separated numbers.\n",
    "Output Format\n",
    "Print the reverse NumPy array with type float.\n",
    "\n",
    "Sample Input\n",
    "1 2 3 4 -8 -10\n",
    "Sample Output\n",
    "[-10. -8. 4. 3. 2. 1.]\n"
   ]
  },
  {
   "cell_type": "code",
   "execution_count": 5,
   "metadata": {},
   "outputs": [
    {
     "name": "stdout",
     "output_type": "stream",
     "text": [
      "[5. 4. 3. 2. 1.]\n"
     ]
    }
   ],
   "source": [
    "ls = list(map(int, input().split()))\n",
    "arr = np.array(ls)\n",
    "flp = np.flip(arr)\n",
    "print(np.array(flp, dtype = 'float'))"
   ]
  },
  {
   "cell_type": "markdown",
   "metadata": {},
   "source": [
    "# Task 2\n",
    "You are given a space separated list of nine integers. Your task is to convert this list into 3x3 numpy array.\n",
    "\n",
    "Input Format\n",
    "A single line of input containing space separated integers.\n",
    "Output Format\n",
    "Print the 3x3 numpy array.\n",
    "\n",
    "Sample Input\n",
    "1 2 3 4 5 6 7 8 9\n",
    "Sample Output\n",
    "[[1 2 3]\n",
    "[4 5 6]\n",
    "[7 8 9]]"
   ]
  },
  {
   "cell_type": "code",
   "execution_count": 3,
   "metadata": {},
   "outputs": [
    {
     "name": "stdout",
     "output_type": "stream",
     "text": [
      "[[1 2 3]\n",
      " [4 5 6]\n",
      " [7 8 9]]\n"
     ]
    }
   ],
   "source": [
    "print(np.array(list(map(int, input().split()))).reshape(3,3))"
   ]
  }
 ],
 "metadata": {
  "kernelspec": {
   "display_name": "Python 3",
   "language": "python",
   "name": "python3"
  },
  "language_info": {
   "codemirror_mode": {
    "name": "ipython",
    "version": 3
   },
   "file_extension": ".py",
   "mimetype": "text/x-python",
   "name": "python",
   "nbconvert_exporter": "python",
   "pygments_lexer": "ipython3",
   "version": "3.12.2"
  },
  "orig_nbformat": 4
 },
 "nbformat": 4,
 "nbformat_minor": 2
}
