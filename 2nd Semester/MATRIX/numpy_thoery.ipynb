{
 "cells": [
  {
   "cell_type": "code",
   "execution_count": 2,
   "metadata": {},
   "outputs": [],
   "source": [
    "import numpy as np"
   ]
  },
  {
   "cell_type": "markdown",
   "metadata": {},
   "source": [
    ">>np.array(object, dtype = None, ndmin = 0)\n",
    "object: Any object exposing the array interface method returns an array, or any (nested) sequence\n",
    "dtype: Desired data type of array, optional\n",
    "ndmin: Specifies minimum dimensions of resultant array\n",
    "\n",
    "Example 1\n",
    "import numpy as np\n",
    "a = np.array([1,2,3])\n",
    "print(a)\n",
    "The output is as follows −\n",
    "[1 2 3]\n",
    "\n",
    "Example 2\n",
    "# more than one dimensions\n",
    "import numpy as np\n",
    "a = np.array([[1, 2], [3, 4]])\n",
    "print(a)\n",
    "The output is as follows −\n",
    "[[1 2]\n",
    "[3 4]]\n",
    "\n",
    "Example 3\n",
    "# minimum dimensions\n",
    "import numpy as np\n",
    "a = np.array([1, 2, 3,4,5], ndmin = 2)\n",
    "print(a)\n",
    "The output is as follows −\n",
    "[[1 2 3 4 5]]\n",
    "\n",
    "Example 4\n",
    "# dtype parameter\n",
    "import numpy as np\n",
    "a = np.array([1, 2, 3], dtype = complex)\n",
    "print (a)\n",
    "The output is as follows −\n",
    "[ 1.+0.j 2.+0.j 3.+0.j]"
   ]
  },
  {
   "cell_type": "code",
   "execution_count": 1,
   "metadata": {},
   "outputs": [
    {
     "name": "stdout",
     "output_type": "stream",
     "text": [
      "[1 2 3]\n"
     ]
    }
   ],
   "source": [
    "#EXAMPLE-1\n",
    "import numpy as np\n",
    "a = np.array([1,2,3])\n",
    "print(a)"
   ]
  },
  {
   "cell_type": "code",
   "execution_count": 2,
   "metadata": {},
   "outputs": [
    {
     "name": "stdout",
     "output_type": "stream",
     "text": [
      "[[1 2]\n",
      " [3 4]]\n"
     ]
    }
   ],
   "source": [
    "#EXAMPLE-2\n",
    "import numpy as np\n",
    "a = np.array([[1, 2], [3, 4]])\n",
    "print(a)"
   ]
  },
  {
   "cell_type": "code",
   "execution_count": 3,
   "metadata": {},
   "outputs": [
    {
     "name": "stdout",
     "output_type": "stream",
     "text": [
      "[[1 2 3 4 5]]\n"
     ]
    }
   ],
   "source": [
    "#EXAMPLE-3\n",
    "import numpy as np\n",
    "a = np.array([1, 2, 3,4,5], ndmin = 2)\n",
    "print(a)"
   ]
  },
  {
   "cell_type": "code",
   "execution_count": 4,
   "metadata": {},
   "outputs": [
    {
     "name": "stdout",
     "output_type": "stream",
     "text": [
      "[1.+0.j 2.+0.j 3.+0.j]\n"
     ]
    }
   ],
   "source": [
    "#EXAMPLE-4\n",
    "import numpy as np\n",
    "a = np.array([1, 2, 3], dtype = complex)\n",
    "print(a)"
   ]
  },
  {
   "cell_type": "markdown",
   "metadata": {},
   "source": [
    "# Task 1\n",
    "You are given a space separated list of numbers.\n",
    "Your task is to print a reversed Numpy array with the element type float.\n",
    "\n",
    "Input Format\n",
    "A single line of input containing space separated numbers.\n",
    "Output Format\n",
    "Print the reverse NumPy array with type float.\n",
    "\n",
    "Sample Input\n",
    "1 2 3 4 -8 -10\n",
    "Sample Output\n",
    "[-10. -8. 4. 3. 2. 1.]\n"
   ]
  },
  {
   "cell_type": "code",
   "execution_count": 5,
   "metadata": {},
   "outputs": [
    {
     "name": "stdout",
     "output_type": "stream",
     "text": [
      "[5. 4. 3. 2. 1.]\n"
     ]
    }
   ],
   "source": [
    "ls = list(map(int, input().split()))\n",
    "arr = np.array(ls)\n",
    "flp = np.flip(arr)\n",
    "print(np.array(flp, dtype = 'float'))"
   ]
  },
  {
   "cell_type": "markdown",
   "metadata": {},
   "source": [
    "# Task 2\n",
    "You are given a space separated list of nine integers. Your task is to convert this list into 3x3 numpy array.\n",
    "\n",
    "Input Format\n",
    "A single line of input containing space separated integers.\n",
    "Output Format\n",
    "Print the 3x3 numpy array.\n",
    "\n",
    "Sample Input\n",
    "1 2 3 4 5 6 7 8 9\n",
    "Sample Output\n",
    "[[1 2 3]\n",
    "[4 5 6]\n",
    "[7 8 9]]"
   ]
  },
  {
   "cell_type": "code",
   "execution_count": 3,
   "metadata": {},
   "outputs": [
    {
     "name": "stdout",
     "output_type": "stream",
     "text": [
      "[[1 2 3]\n",
      " [4 5 6]\n",
      " [7 8 9]]\n"
     ]
    }
   ],
   "source": [
    "print(np.array(list(map(int, input().split()))).reshape(3,3))"
   ]
  },
  {
   "cell_type": "markdown",
   "metadata": {},
   "source": [
    "Mathematical Functions import numpy as np a = np.array([0,30,45,60,90])\n",
    "print ('Sine of different angles:' )\n",
    "# Convert to radians by multiplying with pi/180\n",
    "1. print(np.sin(a*np.pi/180)) \n",
    "print ('Cosine values for angles in array:') \n",
    "2. print (np.cos(a*np.pi/180) )\n",
    "print ('Tangent values for given angles:') \n",
    "3. print (np.tan(a*np.pi/180))\n",
    "print('value of pi') print(np.pi)\n",
    "\n",
    "# Functions for Rounding \n",
    "1. numpy.around()\n",
    "This is a function that returns the value rounded to the desired precision. The function takes the following parameters. \n",
    "2. numpy.around(a,decimals)\n",
    "The number of decimals to round to. Default is 0. If negative, the integer is rounded to position to the left of the decimal point\n"
   ]
  },
  {
   "cell_type": "code",
   "execution_count": 4,
   "metadata": {},
   "outputs": [
    {
     "name": "stdout",
     "output_type": "stream",
     "text": [
      "[0.         0.5        0.70710678 0.8660254  1.        ]\n"
     ]
    }
   ],
   "source": [
    "a = np.array([0,30,45,60,90])\n",
    "print(np.sin(a*np.pi/180))"
   ]
  },
  {
   "cell_type": "code",
   "execution_count": 5,
   "metadata": {},
   "outputs": [
    {
     "name": "stdout",
     "output_type": "stream",
     "text": [
      "Original array:\n",
      "[  1.      5.55  123.      0.567  25.532]\n",
      "After rounding:\n",
      "[  1.   6. 123.   1.  26.]\n",
      "[  1.    5.6 123.    0.6  25.5]\n"
     ]
    }
   ],
   "source": [
    "import numpy as np \n",
    "a = np.array([1.0,5.55, 123, 0.567, 25.532]) \n",
    "print ('Original array:') \n",
    "print (a) \n",
    "print ('After rounding:') \n",
    "print (np.around(a))\n",
    "print (np.around(a, decimals = 1))"
   ]
  },
  {
   "cell_type": "code",
   "execution_count": 9,
   "metadata": {},
   "outputs": [
    {
     "name": "stdout",
     "output_type": "stream",
     "text": [
      "{'a': 10, 'b': 20}\n",
      "object\n",
      "<class 'numpy.ndarray'>\n"
     ]
    }
   ],
   "source": [
    "arr = np.array({'a':10, 'b': 20}, dtype = 'object')\n",
    "print(arr)\n",
    "print(arr.dtype)\n",
    "print(type(arr))"
   ]
  },
  {
   "cell_type": "code",
   "execution_count": 13,
   "metadata": {},
   "outputs": [
    {
     "name": "stdout",
     "output_type": "stream",
     "text": [
      "[[ 1  2  3  4]\n",
      " [ 5  6  7  8]\n",
      " [ 9 10 11 12]]\n"
     ]
    }
   ],
   "source": [
    "#IMPORTANT FUNCTIONS\n",
    "import numpy as np\n",
    "arr = np.arange(1,13).reshape(3,4)\n",
    "print(arr)"
   ]
  },
  {
   "cell_type": "code",
   "execution_count": 17,
   "metadata": {},
   "outputs": [
    {
     "name": "stdout",
     "output_type": "stream",
     "text": [
      "Column Wise Addition:  [15 18 21 24]\n",
      "Row Wise Addition:  [10 26 42]\n"
     ]
    }
   ],
   "source": [
    "#Sum of all elements\n",
    "out1 = np.sum(arr,axis=0) # 0 = along with row (vertical way)\n",
    "out2 = np.sum(arr,axis=1) # 1 = along with column (horizontal way)\n",
    "\n",
    "print(\"Column Wise Addition: \", out1)\n",
    "print(\"Row Wise Addition: \", out2)"
   ]
  },
  {
   "cell_type": "code",
   "execution_count": 26,
   "metadata": {},
   "outputs": [
    {
     "name": "stdout",
     "output_type": "stream",
     "text": [
      "4.0\n",
      "3.55\n",
      "3.546\n",
      "3.5458\n"
     ]
    }
   ],
   "source": [
    "#Round Off\n",
    "a = 3.54575 #It gives priority to the nearest even number\n",
    "out1 = np.round(a,0)\n",
    "out2 = np.round(a,2)\n",
    "out3 = np.round(a,3)\n",
    "out4 = np.round(a,4)\n",
    "out5 = np.round(a,5)\n",
    "print(out1)\n",
    "print(out2)\n",
    "print(out3)\n",
    "print(out4)"
   ]
  },
  {
   "cell_type": "code",
   "execution_count": 28,
   "metadata": {},
   "outputs": [
    {
     "name": "stdout",
     "output_type": "stream",
     "text": [
      "[-3.  3.  2.]\n",
      "[-4.  2.  1.]\n"
     ]
    }
   ],
   "source": [
    "#Ceil Function\n",
    "a = np.array([-3.5, 2.23, 1.009])\n",
    "\n",
    "out = np.floor(a)\n",
    "b = np.ceil(a)\n",
    "print(b)\n",
    "print(out)"
   ]
  },
  {
   "cell_type": "code",
   "execution_count": 44,
   "metadata": {},
   "outputs": [
    {
     "name": "stdout",
     "output_type": "stream",
     "text": [
      "Zeros:  [[0. 0.]\n",
      " [0. 0.]]\n",
      "Ones:  [[1. 1. 1. 1.]\n",
      " [1. 1. 1. 1.]]\n",
      "Empty(Random values):  [[0. 0.]\n",
      " [0. 0.]]\n",
      "Identity Matrix:  [[1. 0.]\n",
      " [0. 1.]]\n",
      "Full:  [[7 7]\n",
      " [7 7]]\n"
     ]
    }
   ],
   "source": [
    "#Zeros, Ones, Empty, Eye, Full\n",
    "print(\"Zeros: \",np.zeros((2,2)))\n",
    "print(\"Ones: \",np.ones((2,4)))\n",
    "print(\"Empty(Random values): \",np.empty((2,2)))\n",
    "print(\"Identity Matrix: \", np.eye(2))\n",
    "print(\"Full: \",np.full((2,2),7))"
   ]
  },
  {
   "cell_type": "code",
   "execution_count": 18,
   "metadata": {},
   "outputs": [
    {
     "name": "stdout",
     "output_type": "stream",
     "text": [
      "[-3.  1.  4.  4.]\n"
     ]
    }
   ],
   "source": [
    "a = np.array([-2.7, 1.3, 3.5, 3.9])\n",
    "b = np.around(a,0)\n",
    "print(b)"
   ]
  }
 ],
 "metadata": {
  "kernelspec": {
   "display_name": "Python 3",
   "language": "python",
   "name": "python3"
  },
  "language_info": {
   "codemirror_mode": {
    "name": "ipython",
    "version": 3
   },
   "file_extension": ".py",
   "mimetype": "text/x-python",
   "name": "python",
   "nbconvert_exporter": "python",
   "pygments_lexer": "ipython3",
   "version": "3.12.2"
  },
  "orig_nbformat": 4
 },
 "nbformat": 4,
 "nbformat_minor": 2
}
